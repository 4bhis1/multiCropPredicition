{
 "cells": [
  {
   "cell_type": "code",
   "execution_count": null,
   "metadata": {},
   "outputs": [
    {
     "name": "stdout",
     "output_type": "stream",
     "text": [
      " * Serving Flask app \"__main__\" (lazy loading)\n",
      " * Environment: production\n",
      "   WARNING: This is a development server. Do not use it in a production deployment.\n",
      "   Use a production WSGI server instead.\n",
      " * Debug mode: off\n"
     ]
    },
    {
     "name": "stderr",
     "output_type": "stream",
     "text": [
      " * Running on http://127.0.0.1:5000/ (Press CTRL+C to quit)\n",
      "127.0.0.1 - - [02/Aug/2020 01:08:22] \"\u001b[37mGET / HTTP/1.1\u001b[0m\" 200 -\n",
      "127.0.0.1 - - [02/Aug/2020 01:08:30] \"\u001b[37mPOST /predict HTTP/1.1\u001b[0m\" 200 -\n"
     ]
    },
    {
     "name": "stdout",
     "output_type": "stream",
     "text": [
      "['Maize', '', '', '', '']\n"
     ]
    },
    {
     "name": "stderr",
     "output_type": "stream",
     "text": [
      "127.0.0.1 - - [02/Aug/2020 01:10:11] \"\u001b[37mGET / HTTP/1.1\u001b[0m\" 200 -\n",
      "127.0.0.1 - - [02/Aug/2020 01:10:26] \"\u001b[37mPOST /predict HTTP/1.1\u001b[0m\" 200 -\n"
     ]
    },
    {
     "name": "stdout",
     "output_type": "stream",
     "text": [
      "['Maize', '', '', '', '']\n"
     ]
    },
    {
     "name": "stderr",
     "output_type": "stream",
     "text": [
      "127.0.0.1 - - [02/Aug/2020 01:10:37] \"\u001b[37mGET / HTTP/1.1\u001b[0m\" 200 -\n",
      "127.0.0.1 - - [02/Aug/2020 01:11:25] \"\u001b[37mPOST /predict HTTP/1.1\u001b[0m\" 200 -\n"
     ]
    },
    {
     "name": "stdout",
     "output_type": "stream",
     "text": [
      "['Bajra', 'Moth', 'Chillies', 'Sweet potato']\n"
     ]
    }
   ],
   "source": [
    "import numpy as np\n",
    "from flask import Flask, request, jsonify, render_template\n",
    "import pickle\n",
    "import json\n",
    "\n",
    "app = Flask(__name__)\n",
    "# model = pickle.load(open('model.pkl', 'rb'))\n",
    "\n",
    "def multi(rnfll,tmp,ntrgn,phsprs,ptsm,ph):\n",
    "    model = pickle.load(open('model.pkl','rb'))\n",
    "    kl=[]\n",
    "    a=['Bajra', 'Banana', 'Barley', 'Bean', 'Black pepper', 'Blackgram','Bottle Gourd', 'Brinjal', 'Cabbage', 'Cardamom', 'Carrot',\n",
    "       'Castor seed', 'Cauliflower', 'Chillies', 'Colocosia', 'Coriander','Cotton', 'Cowpea', 'Drum Stick', 'Garlic', 'Ginger', 'Gram',\n",
    "       'Grapes', 'Groundnut', 'Guar seed', 'Horse-gram', 'Jowar', 'Jute','Khesari', 'Lady Finger', 'Lentil', 'Linseed', 'Maize', 'Mesta',\n",
    "       'Moong(Green Gram)', 'Moth', 'Onion', 'Orange', 'Papaya','Peas & beans (Pulses)', 'Pineapple', 'Potato', 'Raddish', 'Ragi',\n",
    "       'Rice', 'Safflower', 'Sannhamp', 'Sesamum', 'Soyabean','Sugarcane', 'Sunflower', 'Sweet potato', 'Tapioca', 'Tomato',\n",
    "       'Turmeric', 'Urad', 'Varagu', 'Wheat']\n",
    "    i=0\n",
    "    k=0\n",
    "    kl.append(a[int(model.predict([[rnfll,tmp,ntrgn,phsprs,ptsm,ph]]))])\n",
    "    \n",
    "    while(True):\n",
    "        if kl[-1]==a[int(model.predict([[rnfll,tmp,ntrgn,phsprs,ptsm,ph]]))]:\n",
    "            rnfll=rnfll-10\n",
    "            tmp=tmp-3\n",
    "            ntrgn=ntrgn-2\n",
    "            phsprs=phsprs-1\n",
    "            ptsm=ptsm-3\n",
    "            ph=ph-0.2\n",
    "            k+=1\n",
    "            \n",
    "        else:\n",
    "            kl.append(a[int(model.predict([[rnfll,tmp,ntrgn,phsprs,ptsm,ph]]))])\n",
    "            i+=1\n",
    "            \n",
    "        if i==3 or k==100:\n",
    "            if len(kl)<4:\n",
    "                for i in range(len(kl)-1,4):\n",
    "                    kl.append('')\n",
    "            return kl\n",
    "\n",
    "\n",
    "@app.route('/')\n",
    "def home():\n",
    "    return render_template('index.html')\n",
    "\n",
    "@app.route('/predict',methods=['POST'])\n",
    "def predict():\n",
    "    data=json.dumps(request.form)\n",
    "    ko=json.loads(data)\n",
    "    dicti={}\n",
    "#     b=int(DT.predict([kl]))\n",
    "    prediction = multi(float(ko['Rainfall']),float(ko['Temprature']),float(ko['Nitrogen']),float(ko['Phosphorus']),float(ko['Potassium']),float(ko['Ph']))\n",
    "    print(prediction)\n",
    "#     output = prediction[0]\n",
    "    dicti[\"1\"]=prediction[0]    \n",
    "    dicti[\"2\"]=prediction[1]\n",
    "    dicti[\"3\"]=prediction[2]\n",
    "    dicti[\"4\"]=prediction[3]\n",
    "\n",
    "    return json.dumps(dicti)\n",
    "#     return render_template('index.html', prediction_text='The predicted value is {}'.format(a[output]))\n",
    "\n",
    "if __name__ == \"__main__\":\n",
    "    app.run()"
   ]
  },
  {
   "cell_type": "code",
   "execution_count": null,
   "metadata": {},
   "outputs": [],
   "source": []
  }
 ],
 "metadata": {
  "kernelspec": {
   "display_name": "Python 3",
   "language": "python",
   "name": "python3"
  },
  "language_info": {
   "codemirror_mode": {
    "name": "ipython",
    "version": 3
   },
   "file_extension": ".py",
   "mimetype": "text/x-python",
   "name": "python",
   "nbconvert_exporter": "python",
   "pygments_lexer": "ipython3",
   "version": "3.7.4"
  }
 },
 "nbformat": 4,
 "nbformat_minor": 2
}
